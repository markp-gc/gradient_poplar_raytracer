{
 "cells": [
  {
   "attachments": {},
   "cell_type": "markdown",
   "metadata": {},
   "source": [
    "# Graphcore Poplar Path-Tracer on Gradient\n",
    "\n",
    "## URL attachment:\n",
    "\n",
    "<img src=\"attachment:./images/monkey_bust_16384spp.png\" width=\"400\">\n",
    "\n",
    "## URL:\n",
    "\n",
    "<img src=\"./images/monkey_bust_16384spp.png\" width=\"400\">\n",
    "\n",
    "## Python:"
   ]
  },
  {
   "cell_type": "code",
   "execution_count": 6,
   "id": "eee51b8f",
   "metadata": {},
   "outputs": [
    {
     "data": {
      "text/html": [
       "<img src=\"images/monkey_bust_16384spp.png\" width=\"400\"/>"
      ],
      "text/plain": [
       "<IPython.core.display.Image object>"
      ]
     },
     "execution_count": 6,
     "metadata": {},
     "output_type": "execute_result"
    }
   ],
   "source": [
    "from IPython.display import Image\n",
    "Image(url='images/monkey_bust_16384spp.png', width=400)"
   ]
  },
  {
   "attachments": {},
   "cell_type": "markdown",
   "id": "f4206d20",
   "metadata": {},
   "source": [
    "## Markdown:\n",
    "\n",
    "![Path-Traced on IPU](images/monkey_bust_16384spp.png)\n",
    "\n",
    "This notebook contains the instructions for a Poplar C++ Ray/Path Tracer that runs on Graphcore IPUs.\n",
    "\n",
    "## Instructions\n",
    "\n",
    "First you need to laucnh the machine: click the 'start machine' button above.\n",
    "\n",
    "Once the machine has launched click the terminal icon then '+' on the left which opens a (basic) terminal.\n",
    "\n",
    "### Clone and Build the Code\n",
    "\n",
    "Execute these instructions in the terminal to build the application. The build uses CMake:\n",
    "```\n",
    "git clone --recursive https://github.com/markp-gc/ipu_ray_lib\n",
    "mkdir -p ipu_ray_lib/build\n",
    "cd ipu_ray_lib/build\n",
    "cmake -G Ninja ..\n",
    "ninja -j64\n",
    "```\n",
    "\n",
    "### Run the Application\n",
    "\n",
    "The application loads mesh data using the [Open Asset Import Library](https://github.com/assimp/assimp).\n",
    "Currently meshes need to fit on tile, the provided mesh is small enough:\n",
    "```\n",
    "./test -w 1440 -h 1440 --mesh-file ../assets/monkey_bust.glb --render-mode path-trace --visualise rgb --samples 1000 --ipus 4 --ipu-only\n",
    "```\n",
    "\n",
    "After about 30 seconds this command will output an EXR image 'out_rgb_ipu.exr' in the build folder.\n",
    "If you want to quickly tonemap the HDR output and convert to PNG run this command:\n",
    "```\n",
    "pfsin out_rgb_ipu.exr | pfstmo_mai11 | pfsout /notebooks/box.png\n",
    "```\n",
    "\n",
    "You can either run the cell below to display the image here or you can open the file 'box.png' from the notebook's file browser on the left (be sure to hit the refresh icon)."
   ]
  },
  {
   "cell_type": "code",
   "execution_count": 5,
   "id": "784f56d3",
   "metadata": {},
   "outputs": [
    {
     "data": {
      "text/html": [
       "<img src=\"box.png\" width=\"720\"/>"
      ],
      "text/plain": [
       "<IPython.core.display.Image object>"
      ]
     },
     "execution_count": 5,
     "metadata": {},
     "output_type": "execute_result"
    }
   ],
   "source": [
    "from IPython.display import Image\n",
    "Image(url='box.png', width=720)"
   ]
  },
  {
   "attachments": {},
   "cell_type": "markdown",
   "id": "2cde1d64",
   "metadata": {},
   "source": [
    "If you want to render a CPU reference image remove the option `--ipu-only` but be aware it will\n",
    "take much much longer to render. If you just want to compare AOVs between CPU/Embree/IPU you can\n",
    "change to a quicker render mode. E.g. to compare normals:\n",
    "```\n",
    "./test -w 1440 -h 1440 --mesh-file ../assets/monkey_bust.glb --render-mode shadow-trace --visualise normal --ipus 4\n",
    "```\n",
    "If you compare 'out_normal_cpu.exr', 'out_normal_embree.exr', and 'out_normal_ipu.exr' you should find they match closely.\n",
    "\n",
    "For a list of all command options see `./test --help`."
   ]
  }
 ],
 "metadata": {
  "kernelspec": {
   "display_name": "Python 3",
   "language": "python",
   "name": "python3"
  },
  "language_info": {
   "codemirror_mode": {
    "name": "ipython",
    "version": 3
   },
   "file_extension": ".py",
   "mimetype": "text/x-python",
   "name": "python",
   "nbconvert_exporter": "python",
   "pygments_lexer": "ipython3",
   "version": "3.7.7"
  },
  "vscode": {
   "interpreter": {
    "hash": "c9ad4864c9c721810277722a61cd300684ef18a24cb01fc57b2c480710a554dd"
   }
  }
 },
 "nbformat": 4,
 "nbformat_minor": 5
}
