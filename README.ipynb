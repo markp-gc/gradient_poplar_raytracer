{
 "cells": [
  {
   "attachments": {},
   "cell_type": "markdown",
   "id": "f4206d20",
   "metadata": {},
   "source": [
    "# Graphcore Poplar Path-Tracer on Gradient\n",
    "\n",
    "This notebook contains the instructions to build and run a Poplar C++ Ray/Path Tracer that runs on Graphcore IPUs.\n",
    "\n",
    "![Path-Traced on IPU](images/monkey_bust_16384spp.png)\n",
    "\n",
    "## Instructions\n",
    "\n",
    "First you need to launch an IPU machine: click the 'start machine' button above.\n",
    "\n",
    "We will build and run the program on a command prompt. Once the machine has launched click\n",
    "the terminal icon on the left then '+' which opens a (basic) terminal.\n",
    "\n",
    "### Clone and Build the Code\n",
    "\n",
    "Execute these instructions in the terminal to build the application. The build uses CMake:\n",
    "```\n",
    "git clone --recursive https://github.com/markp-gc/ipu_ray_lib\n",
    "mkdir -p ipu_ray_lib/build\n",
    "cd ipu_ray_lib/build\n",
    "cmake -G Ninja ..\n",
    "ninja -j64\n",
    "```\n",
    "\n",
    "### Run the Application\n",
    "\n",
    "The application loads mesh data using the [Open Asset Import Library](https://github.com/assimp/assimp).\n",
    "Currently meshes need to fit on tile, the provided mesh is small enough. Execute this command in the terminal\n",
    "to render an image:\n",
    "```\n",
    "./test -w 1440 -h 1440 --mesh-file ../assets/monkey_bust.glb --render-mode path-trace --visualise rgb --samples 1000 --ipus 4 --ipu-only\n",
    "```\n",
    "After ~30 seconds this command will output an EXR image. We can quickly tonemap and display this image in Python by running this cell:"
   ]
  },
  {
   "cell_type": "code",
   "execution_count": null,
   "id": "784f56d3",
   "metadata": {},
   "outputs": [],
   "source": [
    "import matplotlib.pyplot as plt\n",
    "import cv2\n",
    "import numpy as np\n",
    "\n",
    "EXR_FLAGS = cv2.IMREAD_UNCHANGED | cv2.IMREAD_ANYCOLOR | cv2.IMREAD_ANYDEPTH\n",
    "hdr = cv2.imread('ipu_ray_lib/build/out_rgb_ipu.exr', EXR_FLAGS)\n",
    "print(f\"HDR image shape: {hdr.shape} type: {hdr.dtype} min: {np.min(hdr)} max: {np.max(hdr)}\")\n",
    "exposure = 1.2\n",
    "gamma = 2.4\n",
    "scale = 2.0 ** exposure\n",
    "ldr = np.power(hdr * scale, 1.0 / gamma) * 255\n",
    "ldr = np.clip(ldr, 0, 255)\n",
    "plt.figure(figsize=(8, 8))\n",
    "plt.style.use('dark_background')\n",
    "plt.imshow(cv2.cvtColor(ldr.astype(np.uint8), cv2.COLOR_BGR2RGB), interpolation='bicubic')\n",
    "plt.show()\n",
    "cv2.imwrite('tonemapped.png', ldr)"
   ]
  },
  {
   "attachments": {},
   "cell_type": "markdown",
   "id": "2cde1d64",
   "metadata": {},
   "source": [
    "You can open or download the saved result [tonemapped.png](tonemapped.png) in the file browser on the left.\n",
    "\n",
    "If you want to render a CPU reference image remove the option `--ipu-only` but be aware it will\n",
    "take much much longer to render. (For a list of all command options run `./test --help`.)\n",
    "\n",
    "If you just want to compare AOVs between CPU/Embree/IPU you can\n",
    "change to a quicker render mode. For example to compare normals run this:\n",
    "```\n",
    "./test -w 1440 -h 1440 --mesh-file ../assets/monkey_bust.glb --render-mode shadow-trace --visualise normal --ipus 4\n",
    "```\n",
    "then load the results into Python to compare:"
   ]
  },
  {
   "cell_type": "code",
   "execution_count": null,
   "id": "1529e6c9",
   "metadata": {},
   "outputs": [],
   "source": [
    "# Load normals:\n",
    "ipu_normals = cv2.imread('ipu_ray_lib/build/out_normal_ipu.exr', EXR_FLAGS)\n",
    "embree_normals = cv2.imread('ipu_ray_lib/build/out_normal_embree.exr', EXR_FLAGS)\n",
    "abs_err = np.abs(ipu_normals - embree_normals)\n",
    "print(f\"IPU normals min: {np.min(ipu_normals)} max: {np.max(ipu_normals)}\")\n",
    "print(f\"Embree normals min: {np.min(embree_normals)} max: {np.max(embree_normals)}\")\n",
    "print(f\"ABS Error min: {np.min(abs_err)} max: {np.max(abs_err)} mean: {np.mean(abs_err)}\")\n",
    "\n",
    "# Plot them side by side:\n",
    "vis_ipu = ((ipu_normals + 1.0) / 2.0)\n",
    "vis_embree = ((embree_normals + 1.0) / 2.0)\n",
    "fig, ax = plt.subplots(nrows=1, ncols=2, sharey=True, figsize=(16, 8))\n",
    "ax[0].imshow(vis_ipu)\n",
    "ax[0].set_title('IPU')\n",
    "ax[1].imshow(vis_embree)\n",
    "ax[1].set_title('Embree')\n",
    "plt.show()"
   ]
  },
  {
   "attachments": {},
   "cell_type": "markdown",
   "id": "c349a5a4",
   "metadata": {},
   "source": [
    "### Enjoy\n",
    "\n",
    "Although the program is currently limited in the size of BVH it can render it is very fast. For experimenting and/or learning about path-tracing you can render high resolution results much faster than you can on CPU using vanilla C++ kernels. If you want to browse the code here are some good starting points:\n",
    "\n",
    "- [TraceCodelets.cpp](ipu_ray_lib/codelets/TraceCodelets.cpp): IPU ray-tracing and path-tracing C++ kernels.\n",
    "- [test.cpp](ipu_ray_lib/test.cpp): The main program. In particular note the functions: `renderEmbree`, `renderCPU`, `renderIPU`.\n",
    "- [IpuScene.cpp](ipu_ray_lib/src/IpuScene.cpp): This compiles the IPU ray/path trace graph program using the Poplar graph compiler.\n",
    "- [README.md](ipu_ray_lib/README.md): Contains more information about how the program works and its origins.\n",
    "\n",
    "If you want to make significant changes then you will need to consult the [Poplar SDK documentation](https://docs.graphcore.ai/projects/poplar-user-guide/en/latest/introduction.html).\n",
    "\n",
    "If you want more speed you can try a BOW-POD (where each chip is clocked\n",
    "40% higher than a standard POD)."
   ]
  }
 ],
 "metadata": {
  "kernelspec": {
   "display_name": "Python 3",
   "language": "python",
   "name": "python3"
  },
  "language_info": {
   "codemirror_mode": {
    "name": "ipython",
    "version": 3
   },
   "file_extension": ".py",
   "mimetype": "text/x-python",
   "name": "python",
   "nbconvert_exporter": "python",
   "pygments_lexer": "ipython3",
   "version": "3.8.10"
  },
  "vscode": {
   "interpreter": {
    "hash": "c9ad4864c9c721810277722a61cd300684ef18a24cb01fc57b2c480710a554dd"
   }
  }
 },
 "nbformat": 4,
 "nbformat_minor": 5
}
