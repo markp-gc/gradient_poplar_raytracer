{
 "cells": [
  {
   "attachments": {},
   "cell_type": "markdown",
   "id": "f4206d20",
   "metadata": {
    "tags": []
   },
   "source": [
    "# Exploring Poplar on Paperspace\n",
    "\n",
    "This notebook contains the instructions on how to experiment with the Graphcore's C++ graph programming API Poplar in a notebook environment. Although not designed for C++ development notebooks can be made to work and are a quick way to understand Poplar development.\n",
    "\n",
    "\n",
    "### Starting/stopping Paperspace machines\n",
    "\n",
    "When you open a Paperspace gradient notebook it is in a dormant state. Launch an IPU machine by hitting the 'start machine' button at the top of the page. If you do not have a Paperspace account you will be prompted to create one before the machine launches:\n",
    "\n",
    "![Start machine screenshot](images/start_machine_poplar.png)\n",
    "\n",
    "NOTE: The instructions below will switch you to a classic Jupyter lab view of the notebook. When you are done don't forget to stop the machine by returning to the Paperspace gradient notebook and hitting the stop button at the top. You can always return monitor your active machines and notebooks via your Paperspace account.\n",
    "\n",
    "## Run a simple program\n",
    "\n",
    "First lets just run a Poplar program directly in the notebook. Some useful repositories were checked out for you when setting up this notebook instance. Running the following cell will pull the Graphcore tutorials repo to make sure it is up to date and then build and run the first Poplar tutorial:"
   ]
  },
  {
   "cell_type": "code",
   "execution_count": null,
   "id": "eb13f421",
   "metadata": {
    "tags": []
   },
   "outputs": [],
   "source": [
    "!cd tutorials && git pull\n",
    "!cd tutorials/tutorials/poplar/tut1_variables/complete && g++ tut1_ipu_hardware_complete.cpp -lpoplar && ./a.out"
   ]
  },
  {
   "attachments": {},
   "cell_type": "markdown",
   "id": "a572ffac",
   "metadata": {
    "tags": []
   },
   "source": [
    "In the output you should see some logging that shows the program attach to IPU hardware and run a small calculation. If this works then you can continue with the rest of the guide.\n",
    "\n",
    "## Switch to Jupyter. Open a terminal\n",
    "\n",
    "A classic Jupyter notebook makes for a slightly better C++ development environment than the default Gradient one. In order to switch you need to click the button on the bottom of the left panel:\n",
    "\n",
    "![Switch to Jupyter screenshot](images/jupyter_switch.png)\n",
    "\n",
    "To iteratively build/run the tutorials ourselves we are going to need a terminal. Launch a terminal using the button on the Jupyter notebook landing page:\n",
    "\n",
    "![Jupyter terminal screenshot](images/jupyter_term.png)\n",
    "\n",
    "\n",
    "Now you should be able to run the same program we compiled above from the terminal instead of the notebook cell. *CD* into the tutorials folder above and run the program with the commands below. Run them to make sure you can get the same result as above:\n",
    "```\n",
    "cd /notebooks/tutorials/tutorials/poplar/\n",
    "./tut1_variables/complete/a.out\n",
    "```\n",
    "\n",
    "You can now try to follow the Poplar tutorials for yourself. Start by opening the first tutorial's README file. You can access this in the file browser on the left or by clicking this link: [README.md](tutorials/tutorials/poplar/tut1_variables/README.md). You can view/edit the tutorial 1 skeleton program in the same way: [tut1.cpp](tutorials/tutorials/poplar/tut1_variables/start_here/tut1.cpp). Edit the file in the tab Jupyter opens and then build/run it in the terminal you opened earlier like this:\n",
    "\n",
    "```\n",
    "cd /notebooks/tutorials/tutorials/poplar/tut1_variables/start_here\n",
    "g++ tut1.cpp -lpoplar\n",
    "./a.out\n",
    "```\n",
    "\n",
    "## Poplar Explorer\n",
    "\n",
    "Once you have gone through the Poplar tutorials to understand how Poplar works you can try some more sophisticated examples. Lets try and run the Fourier transform example from the Poplar explorer repository. The explorer repository contains larger code examples you can learn from, or use as a starting point for your own programs, but it is provided \"as is\" with no guarantees.\n",
    "\n",
    "`poplar_explorer` has already been checked out for you. Lets make sure it is up to date and build it by running this cell:"
   ]
  },
  {
   "cell_type": "code",
   "execution_count": null,
   "id": "670fd631",
   "metadata": {},
   "outputs": [],
   "source": [
    "!cd poplar_explorer && git pull && mkdir -p build\n",
    "!cd poplar_explorer/build && cmake -G Ninja .. && ninja -j100"
   ]
  },
  {
   "cell_type": "markdown",
   "id": "d4fd76af",
   "metadata": {},
   "source": [
    "Once the build has completed select and run the FourierTransform program by running this cell:"
   ]
  },
  {
   "cell_type": "code",
   "execution_count": null,
   "id": "97279f07",
   "metadata": {},
   "outputs": [],
   "source": [
    "!poplar_explorer/build/multi-tool FourierTransform --fft-type 1d --fft-size 65536 --batch-size 1 --radix-size 16 --log-level info"
   ]
  },
  {
   "cell_type": "markdown",
   "id": "ec264094",
   "metadata": {},
   "source": [
    "You can list the other example programs available in this tool with `--help`:"
   ]
  },
  {
   "cell_type": "code",
   "execution_count": null,
   "id": "8cd94155-c0b2-4e5f-b1aa-ae204814a828",
   "metadata": {},
   "outputs": [],
   "source": [
    "!poplar_explorer/build/multi-tool --help"
   ]
  }
 ],
 "metadata": {
  "kernelspec": {
   "display_name": "Python 3",
   "language": "python",
   "name": "python3"
  },
  "language_info": {
   "codemirror_mode": {
    "name": "ipython",
    "version": 3
   },
   "file_extension": ".py",
   "mimetype": "text/x-python",
   "name": "python",
   "nbconvert_exporter": "python",
   "pygments_lexer": "ipython3",
   "version": "3.8.10"
  },
  "vscode": {
   "interpreter": {
    "hash": "c9ad4864c9c721810277722a61cd300684ef18a24cb01fc57b2c480710a554dd"
   }
  }
 },
 "nbformat": 4,
 "nbformat_minor": 5
}
