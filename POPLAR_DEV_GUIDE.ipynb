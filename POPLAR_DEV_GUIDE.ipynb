{
 "cells": [
  {
   "attachments": {},
   "cell_type": "markdown",
   "id": "f4206d20",
   "metadata": {},
   "source": [
    "# Exploring Poplar on Paperspace\n",
    "\n",
    "This notebook contains the instructions on how to experiment with the Graphcore's C++ graph programming API Poplar in a notebook environment. Although not designed for C++ development it can be made to work and is a good way to understand Poplar development.\n",
    "\n",
    "# Run a simple program\n",
    "\n",
    "First lets just run a Poplar program directly in the notebook. Some useful repositories were checked out for you when setting up this notebook instance. Running the following cell will pull the Graphcore tutorials repo to make sure it is up to date and then build and run the first Poplar tutorial:"
   ]
  },
  {
   "cell_type": "code",
   "execution_count": null,
   "id": "eb13f421",
   "metadata": {},
   "outputs": [],
   "source": [
    "!cd tutorials && git pull\n",
    "!cd tutorials/tutorials/poplar/tut1_variables/complete && g++ tut1_ipu_hardware_complete.cpp -lpoplar && ./a.out"
   ]
  },
  {
   "attachments": {},
   "cell_type": "markdown",
   "id": "a572ffac",
   "metadata": {},
   "source": [
    "In the output you should see some logging that shows the program attach to IPU hardware and run a small program. If this works then you can continue with the rest of the guide.\n",
    "\n",
    "## Switch to Jupyter, and Open a Terminal\n",
    "\n",
    "A classic Jupyter notebook makes for a slightly better C++ development environment than the default Gradient one. In order to switch you need to click the button on the bottom of the left panel.\n",
    "\n",
    "Now we are going to need a terminal. On the left panel launch a terminal using the button:\n",
    "\n",
    "\n",
    "Now you should be able to run the same program we compiled above from teh terminal instead of the notebook cell. *CD* into the tutorials folder above and runt he program with these commands:\n",
    "```\n",
    "cd /notebooks/tutorials/tutorials/poplar/\n",
    "./tut1_variables/complete/a.out\n",
    "```\n",
    "\n",
    "You can now try to follow the Poplar tutorials for yourself. Start with the readme file in the poplar/tutorials folder. You can access this in the file browser on the left or click this link: [README.md](tutorials/tutorials/poplar/README.md). You can edit the first tutorial's skeleton program in the same way: [](). Good luck!\n",
    "\n",
    "## Poplar Explorer\n",
    "\n",
    "Once you have used the Poplar tutorials to understand how Poplar works you can try some more sophisticated examples. lets try and run the Fourier transform example from the Poplar explorer repository.\n",
    "\n",
    "`poplar_explorer` has already been checked out for you. Lets make sure it is up to date, then build it:"
   ]
  },
  {
   "cell_type": "code",
   "execution_count": null,
   "id": "670fd631",
   "metadata": {},
   "outputs": [],
   "source": [
    "!cd poplar_explorer && git pull && mkdir -p build\n",
    "!cd poplar_explorer/build && cmake -G Ninja .. && ninja -j100"
   ]
  },
  {
   "attachments": {},
   "cell_type": "markdown",
   "id": "d4fd76af",
   "metadata": {},
   "source": [
    "Once the build has completed we can select and run the FourierTransform program like this:"
   ]
  },
  {
   "cell_type": "code",
   "execution_count": null,
   "id": "97279f07",
   "metadata": {},
   "outputs": [],
   "source": [
    "!poplar_explorer/build/multi-tool FourierTransform --fft-type 1d --fft-size 65536 --batch-size 1 --radix-size 16 --log-level info"
   ]
  },
  {
   "attachments": {},
   "cell_type": "markdown",
   "id": "ec264094",
   "metadata": {},
   "source": [
    "For more information about this repository consult the [README.md](poplar_explorer/README.md) file."
   ]
  }
 ],
 "metadata": {
  "kernelspec": {
   "display_name": "Python 3",
   "language": "python",
   "name": "python3"
  },
  "language_info": {
   "codemirror_mode": {
    "name": "ipython",
    "version": 3
   },
   "file_extension": ".py",
   "mimetype": "text/x-python",
   "name": "python",
   "nbconvert_exporter": "python",
   "pygments_lexer": "ipython3",
   "version": "3.8.10"
  },
  "vscode": {
   "interpreter": {
    "hash": "c9ad4864c9c721810277722a61cd300684ef18a24cb01fc57b2c480710a554dd"
   }
  }
 },
 "nbformat": 4,
 "nbformat_minor": 5
}
